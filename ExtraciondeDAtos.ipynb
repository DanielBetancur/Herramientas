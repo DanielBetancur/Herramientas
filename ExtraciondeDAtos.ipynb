{
 "cells": [
  {
   "cell_type": "markdown",
   "metadata": {},
   "source": [
    "## Instalacion  \n",
    "\n",
    "Para la obtencion de este archico en sezario acceder a [DanielBetancur] para el correcto uso y desarrollo de este trabajo se nesecictan descargar el paquete de desacagas de pip para ptyhon, para los usarios de linux con el comando:\n",
    "\n",
    "__sudo apt-get install pip__\n",
    "\n",
    "Una vez instalado pip es necezario descargar el paquete para el trabajo con los comando extraidos mediante el webdriver\n",
    "\n",
    "__pip install selenium beautifulsoup4 Requests__\n",
    "\n",
    "Acontinacion se encuentran, la activacion de los paquetes nativos de python, webdriver y request y del paquete beautifulsoup4 que por propiedades de python es definido como __bs4__"
   ]
  },
  {
   "cell_type": "code",
   "execution_count": 1,
   "metadata": {
    "collapsed": false
   },
   "outputs": [],
   "source": [
    "from selenium import webdriver\n",
    "import requests\n",
    "import bs4"
   ]
  },
  {
   "cell_type": "markdown",
   "metadata": {},
   "source": [
    "Para la ejecucion correcta del codigo siguiente es nesezario la descarga de [chromedriver](https://sites.google.com/a/chromium.org/chromedriver/) una  vez este archvo sea descargado es necesario cambiar en la linea de codigo señalada,el nombre con la ubicacion del driver, por la ubicacion acual del mismo, esto es necezario para una ejdecucion optima del codigo "
   ]
  },
  {
   "cell_type": "code",
   "execution_count": 2,
   "metadata": {
    "collapsed": false
   },
   "outputs": [],
   "source": [
    "browser = webdriver.Chrome(\"/home/daniel-b/Descargas/chromedriver\") #ubicacion actual del codgo \n",
    "browser.get('http://baloto.com/filtro-historico-de-resultados.php')\n",
    "Responce={}\n",
    "for i in range(2001,2017): #Este ciclo se encarga de rrecorrer los años en la pagina web y gauardar el codigo url de la pagina en una \n",
    "    dar_click = browser.find_element_by_id(\"edit-field-a-o-value\")\n",
    "    dar_click.click()\n",
    "    dar_click.send_keys(i)\n",
    "    dar_click.click()\n",
    "    Responce[i] = requests.get('http://baloto.com/filtro-historico-de-resultados.php')\n",
    "# Esta secuencia de codigo se encargar de cambiar los datos "
   ]
  },
  {
   "cell_type": "code",
   "execution_count": 4,
   "metadata": {
    "collapsed": false,
    "scrolled": true
   },
   "outputs": [],
   "source": [
    "Tabla_de_Archivo={}\n",
    "for i in Responce:\n",
    "    gh = bs4.BeautifulSoup(Responce[i].text, \"lxml\")\n",
    "    Tabla_de_Archivo[i]=gh.find_all('tr')\n"
   ]
  },
  {
   "cell_type": "code",
   "execution_count": null,
   "metadata": {
    "collapsed": false
   },
   "outputs": [
    {
     "name": "stdout",
     "output_type": "stream",
     "text": [
      "[IPKernelApp] WARNING | WARNING: attempted to send message from fork\r\n",
      "{'parent_header': {u'username': u'username', u'version': u'5.0', u'msg_type': u'execute_request', u'msg_id': u'72048132B83A4F0A812692DF31CE15A0', u'session': u'A3555EC6CFEC4B50B55B14359D6B7689', 'date': '2016-10-16T18:14:54.350795'}, 'msg_type': u'error', 'msg_id': 'f5a4bae9-d516-49b7-9399-f134f4f89e2b', 'content': {u'ename': u'OSError', u'evalue': u'[Errno 7] Argument list too long', u'traceback': [u'\\x1b[0;31m\\x1b[0m', u'\\x1b[0;31mOSError\\x1b[0mTraceback (most recent call last)', u\"\\x1b[0;32m<ipython-input-8-51502b79c76e>\\x1b[0m in \\x1b[0;36m<module>\\x1b[0;34m()\\x1b[0m\\n\\x1b[1;32m      2\\x1b[0m \\x1b[0;32mfor\\x1b[0m \\x1b[0mx\\x1b[0m \\x1b[0;32min\\x1b[0m \\x1b[0mTabla_de_Archivo\\x1b[0m\\x1b[0;34m:\\x1b[0m\\x1b[0;34m\\x1b[0m\\x1b[0m\\n\\x1b[1;32m      3\\x1b[0m     \\x1b[0mparagraphs\\x1b[0m\\x1b[0;34m+=\\x1b[0m\\x1b[0;34m(\\x1b[0m\\x1b[0mstr\\x1b[0m\\x1b[0;34m(\\x1b[0m\\x1b[0mTabla_de_Archivo\\x1b[0m\\x1b[0;34m[\\x1b[0m\\x1b[0mx\\x1b[0m\\x1b[0;34m]\\x1b[0m\\x1b[0;34m)\\x1b[0m\\x1b[0;34m)\\x1b[0m\\x1b[0;34m\\x1b[0m\\x1b[0m\\n\\x1b[0;32m----> 4\\x1b[0;31m \\x1b[0mget_ipython\\x1b[0m\\x1b[0;34m(\\x1b[0m\\x1b[0;34m)\\x1b[0m\\x1b[0;34m.\\x1b[0m\\x1b[0msystem\\x1b[0m\\x1b[0;34m(\\x1b[0m\\x1b[0;34mu'echo $paragraphs'\\x1b[0m\\x1b[0;34m)\\x1b[0m\\x1b[0;34m\\x1b[0m\\x1b[0m\\n\\x1b[0m\", u\"\\x1b[0;32m/usr/local/lib/python2.7/dist-packages/IPython/core/interactiveshell.pyc\\x1b[0m in \\x1b[0;36msystem_piped\\x1b[0;34m(self, cmd)\\x1b[0m\\n\\x1b[1;32m   2207\\x1b[0m         \\x1b[0;31m# a non-None value would trigger :func:`sys.displayhook` calls.\\x1b[0m\\x1b[0;34m\\x1b[0m\\x1b[0;34m\\x1b[0m\\x1b[0m\\n\\x1b[1;32m   2208\\x1b[0m         \\x1b[0;31m# Instead, we store the exit_code in user_ns.\\x1b[0m\\x1b[0;34m\\x1b[0m\\x1b[0;34m\\x1b[0m\\x1b[0m\\n\\x1b[0;32m-> 2209\\x1b[0;31m         \\x1b[0mself\\x1b[0m\\x1b[0;34m.\\x1b[0m\\x1b[0muser_ns\\x1b[0m\\x1b[0;34m[\\x1b[0m\\x1b[0;34m'_exit_code'\\x1b[0m\\x1b[0;34m]\\x1b[0m \\x1b[0;34m=\\x1b[0m \\x1b[0msystem\\x1b[0m\\x1b[0;34m(\\x1b[0m\\x1b[0mself\\x1b[0m\\x1b[0;34m.\\x1b[0m\\x1b[0mvar_expand\\x1b[0m\\x1b[0;34m(\\x1b[0m\\x1b[0mcmd\\x1b[0m\\x1b[0;34m,\\x1b[0m \\x1b[0mdepth\\x1b[0m\\x1b[0;34m=\\x1b[0m\\x1b[0;36m1\\x1b[0m\\x1b[0;34m)\\x1b[0m\\x1b[0;34m)\\x1b[0m\\x1b[0;34m\\x1b[0m\\x1b[0m\\n\\x1b[0m\\x1b[1;32m   2210\\x1b[0m \\x1b[0;34m\\x1b[0m\\x1b[0m\\n\\x1b[1;32m   2211\\x1b[0m     \\x1b[0;32mdef\\x1b[0m \\x1b[0msystem_raw\\x1b[0m\\x1b[0;34m(\\x1b[0m\\x1b[0mself\\x1b[0m\\x1b[0;34m,\\x1b[0m \\x1b[0mcmd\\x1b[0m\\x1b[0;34m)\\x1b[0m\\x1b[0;34m:\\x1b[0m\\x1b[0;34m\\x1b[0m\\x1b[0m\\n\", u\"\\x1b[0;32m/usr/local/lib/python2.7/dist-packages/IPython/utils/_process_posix.pyc\\x1b[0m in \\x1b[0;36msystem\\x1b[0;34m(self, cmd)\\x1b[0m\\n\\x1b[1;32m    155\\x1b[0m                 \\x1b[0mchild\\x1b[0m \\x1b[0;34m=\\x1b[0m \\x1b[0mpexpect\\x1b[0m\\x1b[0;34m.\\x1b[0m\\x1b[0mspawnb\\x1b[0m\\x1b[0;34m(\\x1b[0m\\x1b[0mself\\x1b[0m\\x1b[0;34m.\\x1b[0m\\x1b[0msh\\x1b[0m\\x1b[0;34m,\\x1b[0m \\x1b[0margs\\x1b[0m\\x1b[0;34m=\\x1b[0m\\x1b[0;34m[\\x1b[0m\\x1b[0;34m'-c'\\x1b[0m\\x1b[0;34m,\\x1b[0m \\x1b[0mcmd\\x1b[0m\\x1b[0;34m]\\x1b[0m\\x1b[0;34m)\\x1b[0m \\x1b[0;31m# Pexpect-U\\x1b[0m\\x1b[0;34m\\x1b[0m\\x1b[0m\\n\\x1b[1;32m    156\\x1b[0m             \\x1b[0;32melse\\x1b[0m\\x1b[0;34m:\\x1b[0m\\x1b[0;34m\\x1b[0m\\x1b[0m\\n\\x1b[0;32m--> 157\\x1b[0;31m                 \\x1b[0mchild\\x1b[0m \\x1b[0;34m=\\x1b[0m \\x1b[0mpexpect\\x1b[0m\\x1b[0;34m.\\x1b[0m\\x1b[0mspawn\\x1b[0m\\x1b[0;34m(\\x1b[0m\\x1b[0mself\\x1b[0m\\x1b[0;34m.\\x1b[0m\\x1b[0msh\\x1b[0m\\x1b[0;34m,\\x1b[0m \\x1b[0margs\\x1b[0m\\x1b[0;34m=\\x1b[0m\\x1b[0;34m[\\x1b[0m\\x1b[0;34m'-c'\\x1b[0m\\x1b[0;34m,\\x1b[0m \\x1b[0mcmd\\x1b[0m\\x1b[0;34m]\\x1b[0m\\x1b[0;34m)\\x1b[0m  \\x1b[0;31m# Vanilla Pexpect\\x1b[0m\\x1b[0;34m\\x1b[0m\\x1b[0m\\n\\x1b[0m\\x1b[1;32m    158\\x1b[0m             \\x1b[0mflush\\x1b[0m \\x1b[0;34m=\\x1b[0m \\x1b[0msys\\x1b[0m\\x1b[0;34m.\\x1b[0m\\x1b[0mstdout\\x1b[0m\\x1b[0;34m.\\x1b[0m\\x1b[0mflush\\x1b[0m\\x1b[0;34m\\x1b[0m\\x1b[0m\\n\\x1b[1;32m    159\\x1b[0m             \\x1b[0;32mwhile\\x1b[0m \\x1b[0mTrue\\x1b[0m\\x1b[0;34m:\\x1b[0m\\x1b[0;34m\\x1b[0m\\x1b[0m\\n\", u\"\\x1b[0;32m/usr/lib/python2.7/dist-packages/pexpect/__init__.pyc\\x1b[0m in \\x1b[0;36m__init__\\x1b[0;34m(self, command, args, timeout, maxread, searchwindowsize, logfile, cwd, env, ignore_sighup)\\x1b[0m\\n\\x1b[1;32m    483\\x1b[0m             \\x1b[0mself\\x1b[0m\\x1b[0;34m.\\x1b[0m\\x1b[0mname\\x1b[0m \\x1b[0;34m=\\x1b[0m \\x1b[0;34m'<pexpect factory incomplete>'\\x1b[0m\\x1b[0;34m\\x1b[0m\\x1b[0m\\n\\x1b[1;32m    484\\x1b[0m         \\x1b[0;32melse\\x1b[0m\\x1b[0;34m:\\x1b[0m\\x1b[0;34m\\x1b[0m\\x1b[0m\\n\\x1b[0;32m--> 485\\x1b[0;31m             \\x1b[0mself\\x1b[0m\\x1b[0;34m.\\x1b[0m\\x1b[0m_spawn\\x1b[0m\\x1b[0;34m(\\x1b[0m\\x1b[0mcommand\\x1b[0m\\x1b[0;34m,\\x1b[0m \\x1b[0margs\\x1b[0m\\x1b[0;34m)\\x1b[0m\\x1b[0;34m\\x1b[0m\\x1b[0m\\n\\x1b[0m\\x1b[1;32m    486\\x1b[0m \\x1b[0;34m\\x1b[0m\\x1b[0m\\n\\x1b[1;32m    487\\x1b[0m     \\x1b[0;34m@\\x1b[0m\\x1b[0mstaticmethod\\x1b[0m\\x1b[0;34m\\x1b[0m\\x1b[0m\\n\", u'\\x1b[0;32m/usr/lib/python2.7/dist-packages/pexpect/__init__.pyc\\x1b[0m in \\x1b[0;36m_spawn\\x1b[0;34m(self, command, args)\\x1b[0m\\n\\x1b[1;32m    634\\x1b[0m                 \\x1b[0mos\\x1b[0m\\x1b[0;34m.\\x1b[0m\\x1b[0mchdir\\x1b[0m\\x1b[0;34m(\\x1b[0m\\x1b[0mself\\x1b[0m\\x1b[0;34m.\\x1b[0m\\x1b[0mcwd\\x1b[0m\\x1b[0;34m)\\x1b[0m\\x1b[0;34m\\x1b[0m\\x1b[0m\\n\\x1b[1;32m    635\\x1b[0m             \\x1b[0;32mif\\x1b[0m \\x1b[0mself\\x1b[0m\\x1b[0;34m.\\x1b[0m\\x1b[0menv\\x1b[0m \\x1b[0;32mis\\x1b[0m \\x1b[0mNone\\x1b[0m\\x1b[0;34m:\\x1b[0m\\x1b[0;34m\\x1b[0m\\x1b[0m\\n\\x1b[0;32m--> 636\\x1b[0;31m                 \\x1b[0mos\\x1b[0m\\x1b[0;34m.\\x1b[0m\\x1b[0mexecv\\x1b[0m\\x1b[0;34m(\\x1b[0m\\x1b[0mself\\x1b[0m\\x1b[0;34m.\\x1b[0m\\x1b[0mcommand\\x1b[0m\\x1b[0;34m,\\x1b[0m \\x1b[0mself\\x1b[0m\\x1b[0;34m.\\x1b[0m\\x1b[0margs\\x1b[0m\\x1b[0;34m)\\x1b[0m\\x1b[0;34m\\x1b[0m\\x1b[0m\\n\\x1b[0m\\x1b[1;32m    637\\x1b[0m             \\x1b[0;32melse\\x1b[0m\\x1b[0;34m:\\x1b[0m\\x1b[0;34m\\x1b[0m\\x1b[0m\\n\\x1b[1;32m    638\\x1b[0m                 \\x1b[0mos\\x1b[0m\\x1b[0;34m.\\x1b[0m\\x1b[0mexecvpe\\x1b[0m\\x1b[0;34m(\\x1b[0m\\x1b[0mself\\x1b[0m\\x1b[0;34m.\\x1b[0m\\x1b[0mcommand\\x1b[0m\\x1b[0;34m,\\x1b[0m \\x1b[0mself\\x1b[0m\\x1b[0;34m.\\x1b[0m\\x1b[0margs\\x1b[0m\\x1b[0;34m,\\x1b[0m \\x1b[0mself\\x1b[0m\\x1b[0;34m.\\x1b[0m\\x1b[0menv\\x1b[0m\\x1b[0;34m)\\x1b[0m\\x1b[0;34m\\x1b[0m\\x1b[0m\\n', u'\\x1b[0;31mOSError\\x1b[0m: [Errno 7] Argument list too long']}, 'header': {'username': u'daniel-b', 'msg_type': u'error', 'msg_id': 'f5a4bae9-d516-49b7-9399-f134f4f89e2b', 'version': '5.0', 'session': u'ca3f4950-e254-42c1-9d0d-6b4e7d292184', 'date': datetime.datetime(2016, 10, 16, 18, 14, 55, 320256)}, 'metadata': {}}\r\n",
      "[IPKernelApp] WARNING | WARNING: attempted to send message from fork\r\n",
      "{'parent_header': {u'username': u'username', u'version': u'5.0', u'msg_type': u'execute_request', u'msg_id': u'72048132B83A4F0A812692DF31CE15A0', u'session': u'A3555EC6CFEC4B50B55B14359D6B7689', 'date': '2016-10-16T18:14:54.350795'}, 'msg_type': u'execute_reply', 'msg_id': '8f286283-a335-48e7-8a5a-a46e83002a68', 'content': {u'status': u'error', u'ename': u'OSError', u'evalue': u'[Errno 7] Argument list too long', u'traceback': [u'\\x1b[0;31m\\x1b[0m', u'\\x1b[0;31mOSError\\x1b[0mTraceback (most recent call last)', u\"\\x1b[0;32m<ipython-input-8-51502b79c76e>\\x1b[0m in \\x1b[0;36m<module>\\x1b[0;34m()\\x1b[0m\\n\\x1b[1;32m      2\\x1b[0m \\x1b[0;32mfor\\x1b[0m \\x1b[0mx\\x1b[0m \\x1b[0;32min\\x1b[0m \\x1b[0mTabla_de_Archivo\\x1b[0m\\x1b[0;34m:\\x1b[0m\\x1b[0;34m\\x1b[0m\\x1b[0m\\n\\x1b[1;32m      3\\x1b[0m     \\x1b[0mparagraphs\\x1b[0m\\x1b[0;34m+=\\x1b[0m\\x1b[0;34m(\\x1b[0m\\x1b[0mstr\\x1b[0m\\x1b[0;34m(\\x1b[0m\\x1b[0mTabla_de_Archivo\\x1b[0m\\x1b[0;34m[\\x1b[0m\\x1b[0mx\\x1b[0m\\x1b[0;34m]\\x1b[0m\\x1b[0;34m)\\x1b[0m\\x1b[0;34m)\\x1b[0m\\x1b[0;34m\\x1b[0m\\x1b[0m\\n\\x1b[0;32m----> 4\\x1b[0;31m \\x1b[0mget_ipython\\x1b[0m\\x1b[0;34m(\\x1b[0m\\x1b[0;34m)\\x1b[0m\\x1b[0;34m.\\x1b[0m\\x1b[0msystem\\x1b[0m\\x1b[0;34m(\\x1b[0m\\x1b[0;34mu'echo $paragraphs'\\x1b[0m\\x1b[0;34m)\\x1b[0m\\x1b[0;34m\\x1b[0m\\x1b[0m\\n\\x1b[0m\", u\"\\x1b[0;32m/usr/local/lib/python2.7/dist-packages/IPython/core/interactiveshell.pyc\\x1b[0m in \\x1b[0;36msystem_piped\\x1b[0;34m(self, cmd)\\x1b[0m\\n\\x1b[1;32m   2207\\x1b[0m         \\x1b[0;31m# a non-None value would trigger :func:`sys.displayhook` calls.\\x1b[0m\\x1b[0;34m\\x1b[0m\\x1b[0;34m\\x1b[0m\\x1b[0m\\n\\x1b[1;32m   2208\\x1b[0m         \\x1b[0;31m# Instead, we store the exit_code in user_ns.\\x1b[0m\\x1b[0;34m\\x1b[0m\\x1b[0;34m\\x1b[0m\\x1b[0m\\n\\x1b[0;32m-> 2209\\x1b[0;31m         \\x1b[0mself\\x1b[0m\\x1b[0;34m.\\x1b[0m\\x1b[0muser_ns\\x1b[0m\\x1b[0;34m[\\x1b[0m\\x1b[0;34m'_exit_code'\\x1b[0m\\x1b[0;34m]\\x1b[0m \\x1b[0;34m=\\x1b[0m \\x1b[0msystem\\x1b[0m\\x1b[0;34m(\\x1b[0m\\x1b[0mself\\x1b[0m\\x1b[0;34m.\\x1b[0m\\x1b[0mvar_expand\\x1b[0m\\x1b[0;34m(\\x1b[0m\\x1b[0mcmd\\x1b[0m\\x1b[0;34m,\\x1b[0m \\x1b[0mdepth\\x1b[0m\\x1b[0;34m=\\x1b[0m\\x1b[0;36m1\\x1b[0m\\x1b[0;34m)\\x1b[0m\\x1b[0;34m)\\x1b[0m\\x1b[0;34m\\x1b[0m\\x1b[0m\\n\\x1b[0m\\x1b[1;32m   2210\\x1b[0m \\x1b[0;34m\\x1b[0m\\x1b[0m\\n\\x1b[1;32m   2211\\x1b[0m     \\x1b[0;32mdef\\x1b[0m \\x1b[0msystem_raw\\x1b[0m\\x1b[0;34m(\\x1b[0m\\x1b[0mself\\x1b[0m\\x1b[0;34m,\\x1b[0m \\x1b[0mcmd\\x1b[0m\\x1b[0;34m)\\x1b[0m\\x1b[0;34m:\\x1b[0m\\x1b[0;34m\\x1b[0m\\x1b[0m\\n\", u\"\\x1b[0;32m/usr/local/lib/python2.7/dist-packages/IPython/utils/_process_posix.pyc\\x1b[0m in \\x1b[0;36msystem\\x1b[0;34m(self, cmd)\\x1b[0m\\n\\x1b[1;32m    155\\x1b[0m                 \\x1b[0mchild\\x1b[0m \\x1b[0;34m=\\x1b[0m \\x1b[0mpexpect\\x1b[0m\\x1b[0;34m.\\x1b[0m\\x1b[0mspawnb\\x1b[0m\\x1b[0;34m(\\x1b[0m\\x1b[0mself\\x1b[0m\\x1b[0;34m.\\x1b[0m\\x1b[0msh\\x1b[0m\\x1b[0;34m,\\x1b[0m \\x1b[0margs\\x1b[0m\\x1b[0;34m=\\x1b[0m\\x1b[0;34m[\\x1b[0m\\x1b[0;34m'-c'\\x1b[0m\\x1b[0;34m,\\x1b[0m \\x1b[0mcmd\\x1b[0m\\x1b[0;34m]\\x1b[0m\\x1b[0;34m)\\x1b[0m \\x1b[0;31m# Pexpect-U\\x1b[0m\\x1b[0;34m\\x1b[0m\\x1b[0m\\n\\x1b[1;32m    156\\x1b[0m             \\x1b[0;32melse\\x1b[0m\\x1b[0;34m:\\x1b[0m\\x1b[0;34m\\x1b[0m\\x1b[0m\\n\\x1b[0;32m--> 157\\x1b[0;31m                 \\x1b[0mchild\\x1b[0m \\x1b[0;34m=\\x1b[0m \\x1b[0mpexpect\\x1b[0m\\x1b[0;34m.\\x1b[0m\\x1b[0mspawn\\x1b[0m\\x1b[0;34m(\\x1b[0m\\x1b[0mself\\x1b[0m\\x1b[0;34m.\\x1b[0m\\x1b[0msh\\x1b[0m\\x1b[0;34m,\\x1b[0m \\x1b[0margs\\x1b[0m\\x1b[0;34m=\\x1b[0m\\x1b[0;34m[\\x1b[0m\\x1b[0;34m'-c'\\x1b[0m\\x1b[0;34m,\\x1b[0m \\x1b[0mcmd\\x1b[0m\\x1b[0;34m]\\x1b[0m\\x1b[0;34m)\\x1b[0m  \\x1b[0;31m# Vanilla Pexpect\\x1b[0m\\x1b[0;34m\\x1b[0m\\x1b[0m\\n\\x1b[0m\\x1b[1;32m    158\\x1b[0m             \\x1b[0mflush\\x1b[0m \\x1b[0;34m=\\x1b[0m \\x1b[0msys\\x1b[0m\\x1b[0;34m.\\x1b[0m\\x1b[0mstdout\\x1b[0m\\x1b[0;34m.\\x1b[0m\\x1b[0mflush\\x1b[0m\\x1b[0;34m\\x1b[0m\\x1b[0m\\n\\x1b[1;32m    159\\x1b[0m             \\x1b[0;32mwhile\\x1b[0m \\x1b[0mTrue\\x1b[0m\\x1b[0;34m:\\x1b[0m\\x1b[0;34m\\x1b[0m\\x1b[0m\\n\", u\"\\x1b[0;32m/usr/lib/python2.7/dist-packages/pexpect/__init__.pyc\\x1b[0m in \\x1b[0;36m__init__\\x1b[0;34m(self, command, args, timeout, maxread, searchwindowsize, logfile, cwd, env, ignore_sighup)\\x1b[0m\\n\\x1b[1;32m    483\\x1b[0m             \\x1b[0mself\\x1b[0m\\x1b[0;34m.\\x1b[0m\\x1b[0mname\\x1b[0m \\x1b[0;34m=\\x1b[0m \\x1b[0;34m'<pexpect factory incomplete>'\\x1b[0m\\x1b[0;34m\\x1b[0m\\x1b[0m\\n\\x1b[1;32m    484\\x1b[0m         \\x1b[0;32melse\\x1b[0m\\x1b[0;34m:\\x1b[0m\\x1b[0;34m\\x1b[0m\\x1b[0m\\n\\x1b[0;32m--> 485\\x1b[0;31m             \\x1b[0mself\\x1b[0m\\x1b[0;34m.\\x1b[0m\\x1b[0m_spawn\\x1b[0m\\x1b[0;34m(\\x1b[0m\\x1b[0mcommand\\x1b[0m\\x1b[0;34m,\\x1b[0m \\x1b[0margs\\x1b[0m\\x1b[0;34m)\\x1b[0m\\x1b[0;34m\\x1b[0m\\x1b[0m\\n\\x1b[0m\\x1b[1;32m    486\\x1b[0m \\x1b[0;34m\\x1b[0m\\x1b[0m\\n\\x1b[1;32m    487\\x1b[0m     \\x1b[0;34m@\\x1b[0m\\x1b[0mstaticmethod\\x1b[0m\\x1b[0;34m\\x1b[0m\\x1b[0m\\n\", u'\\x1b[0;32m/usr/lib/python2.7/dist-packages/pexpect/__init__.pyc\\x1b[0m in \\x1b[0;36m_spawn\\x1b[0;34m(self, command, args)\\x1b[0m\\n\\x1b[1;32m    634\\x1b[0m                 \\x1b[0mos\\x1b[0m\\x1b[0;34m.\\x1b[0m\\x1b[0mchdir\\x1b[0m\\x1b[0;34m(\\x1b[0m\\x1b[0mself\\x1b[0m\\x1b[0;34m.\\x1b[0m\\x1b[0mcwd\\x1b[0m\\x1b[0;34m)\\x1b[0m\\x1b[0;34m\\x1b[0m\\x1b[0m\\n\\x1b[1;32m    635\\x1b[0m             \\x1b[0;32mif\\x1b[0m \\x1b[0mself\\x1b[0m\\x1b[0;34m.\\x1b[0m\\x1b[0menv\\x1b[0m \\x1b[0;32mis\\x1b[0m \\x1b[0mNone\\x1b[0m\\x1b[0;34m:\\x1b[0m\\x1b[0;34m\\x1b[0m\\x1b[0m\\n\\x1b[0;32m--> 636\\x1b[0;31m                 \\x1b[0mos\\x1b[0m\\x1b[0;34m.\\x1b[0m\\x1b[0mexecv\\x1b[0m\\x1b[0;34m(\\x1b[0m\\x1b[0mself\\x1b[0m\\x1b[0;34m.\\x1b[0m\\x1b[0mcommand\\x1b[0m\\x1b[0;34m,\\x1b[0m \\x1b[0mself\\x1b[0m\\x1b[0;34m.\\x1b[0m\\x1b[0margs\\x1b[0m\\x1b[0;34m)\\x1b[0m\\x1b[0;34m\\x1b[0m\\x1b[0m\\n\\x1b[0m\\x1b[1;32m    637\\x1b[0m             \\x1b[0;32melse\\x1b[0m\\x1b[0;34m:\\x1b[0m\\x1b[0;34m\\x1b[0m\\x1b[0m\\n\\x1b[1;32m    638\\x1b[0m                 \\x1b[0mos\\x1b[0m\\x1b[0;34m.\\x1b[0m\\x1b[0mexecvpe\\x1b[0m\\x1b[0;34m(\\x1b[0m\\x1b[0mself\\x1b[0m\\x1b[0;34m.\\x1b[0m\\x1b[0mcommand\\x1b[0m\\x1b[0;34m,\\x1b[0m \\x1b[0mself\\x1b[0m\\x1b[0;34m.\\x1b[0m\\x1b[0margs\\x1b[0m\\x1b[0;34m,\\x1b[0m \\x1b[0mself\\x1b[0m\\x1b[0;34m.\\x1b[0m\\x1b[0menv\\x1b[0m\\x1b[0;34m)\\x1b[0m\\x1b[0;34m\\x1b[0m\\x1b[0m\\n', u'\\x1b[0;31mOSError\\x1b[0m: [Errno 7] Argument list too long'], u'execution_count': 8, u'user_expressions': {}, u'engine_info': {u'engine_uuid': u'52152b5d-3c1b-497b-873e-d641b44f17a2', u'method': u'execute', u'engine_id': -1}, u'payload': []}, 'header': {'username': u'daniel-b', 'msg_type': u'execute_reply', 'msg_id': '8f286283-a335-48e7-8a5a-a46e83002a68', 'version': '5.0', 'session': u'ca3f4950-e254-42c1-9d0d-6b4e7d292184', 'date': datetime.datetime(2016, 10, 16, 18, 14, 55, 335200)}, 'metadata': {'started': datetime.datetime(2016, 10, 16, 18, 14, 54, 351719), 'dependencies_met': True, 'status': u'error', 'engine': u'52152b5d-3c1b-497b-873e-d641b44f17a2'}}\r\n",
      "[IPKernelApp] ERROR | Exception in message handler:\r\n",
      "Traceback (most recent call last):\r\n",
      "  File \"/usr/local/lib/python2.7/dist-packages/ipykernel/kernelbase.py\", line 228, in dispatch_shell\r\n",
      "    handler(stream, idents, msg)\r\n",
      "  File \"/usr/local/lib/python2.7/dist-packages/ipykernel/kernelbase.py\", line 411, in execute_request\r\n",
      "    if not silent and reply_msg['content']['status'] == u'error' and stop_on_error:\r\n",
      "TypeError: 'NoneType' object has no attribute '__getitem__'\r\n",
      "[IPKernelApp] WARNING | WARNING: attempted to send message from fork\r\n",
      "{'parent_header': {u'username': u'username', u'version': u'5.0', u'msg_type': u'execute_request', u'msg_id': u'72048132B83A4F0A812692DF31CE15A0', u'session': u'A3555EC6CFEC4B50B55B14359D6B7689', 'date': '2016-10-16T18:14:54.350795'}, 'msg_type': u'status', 'msg_id': 'c935a920-dd2f-41b0-b824-830f049ed112', 'content': {u'execution_state': u'idle'}, 'header': {'username': u'daniel-b', 'msg_type': u'status', 'msg_id': 'c935a920-dd2f-41b0-b824-830f049ed112', 'version': '5.0', 'session': u'ca3f4950-e254-42c1-9d0d-6b4e7d292184', 'date': datetime.datetime(2016, 10, 16, 18, 14, 55, 336486)}, 'metadata': {}}\r\n"
     ]
    }
   ],
   "source": []
  },
  {
   "cell_type": "code",
   "execution_count": 21,
   "metadata": {
    "collapsed": false
   },
   "outputs": [
    {
     "name": "stdout",
     "output_type": "stream",
     "text": [
      "[]\n"
     ]
    }
   ],
   "source": []
  },
  {
   "cell_type": "code",
   "execution_count": null,
   "metadata": {
    "collapsed": true
   },
   "outputs": [],
   "source": []
  }
 ],
 "metadata": {
  "kernelspec": {
   "display_name": "Python 2",
   "language": "python",
   "name": "python2"
  },
  "language_info": {
   "codemirror_mode": {
    "name": "ipython",
    "version": 2
   },
   "file_extension": ".py",
   "mimetype": "text/x-python",
   "name": "python",
   "nbconvert_exporter": "python",
   "pygments_lexer": "ipython2",
   "version": "2.7.6"
  }
 },
 "nbformat": 4,
 "nbformat_minor": 1
}
